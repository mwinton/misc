{
 "cells": [
  {
   "cell_type": "markdown",
   "metadata": {},
   "source": [
    "## Budget for Happiness\n",
    "### Mike Winton\n",
    "\n",
    "Write a function to provide budgeting recommendations to maximize happiness via discretionary spending.\n",
    "\n",
    "Inputs:\n",
    "- List of expected yearly incomes\n",
    "- List of expected yearly mandatory expenses\n",
    "\n",
    "Output:\n",
    "- List of recommended discretionary expenditures\n",
    "\n",
    "Notes:\n",
    "- Can't assume each year's income covers that year's expenses; may need to roll funds forward.\n",
    "- The person definitely shouldn’t die (i.e. budget must cover mandatory expenses every year).\n",
    "- Happiness comes from discretionary spending.\n",
    "- Happiness vs. Discretionary expenditures plot starts steep and flattens out.  In other words, the marginal value of each dollar declines over the previous one throughout the year (i.e. 1st dollar generates more happiness than the second.  Second generates more than the third, etc...).\n",
    "- Marginal value of each discretionary dollar resets each year.\n",
    "- Use up all money by end of life."
   ]
  },
  {
   "cell_type": "code",
   "execution_count": 1,
   "metadata": {},
   "outputs": [],
   "source": [
    "def make_me_happy(income, mandatory_exp):\n",
    "    \"\"\"\n",
    "    Calculates how to spread discretionary income throughout lifetime for max happiness.\n",
    "    \n",
    "    Inputs:\n",
    "        income = list(float) of expected future income per year\n",
    "        mandatory_exp = list(float) of expected mandatory expenses per year\n",
    "        \n",
    "    Returns:\n",
    "        discretionary = list(float) of discretionary expenditures per year to maximize happiness\n",
    "    \"\"\"\n",
    "    \n",
    "    # pad with zeroes if lists aren't the same length\n",
    "    if len(income) > len(mandatory_exp):\n",
    "        mandatory_exp += [0] * (len(income) - len(mandatory_exp))\n",
    "    elif len(income) < len(mandatory_exp):\n",
    "        income += [0] * (len(mandatory_exp) - len(income))\n",
    "    \n",
    "    # fail if total income is insufficient for total expenses\n",
    "    if sum(mandatory_exp) > sum(income):\n",
    "        raise ValueError('Impossible!')\n",
    "        \n",
    "    num_years = len(income)  # for convenience later\n",
    "    \n",
    "    # initialize variables\n",
    "    first_surplus_idx = -1  # -1 means it hasn't been found yet\n",
    "    rollover_needed = 0\n",
    "    mandatory_exp_and_reserves = [0] * num_years\n",
    "    discretionary = [0] * num_years \n",
    "    \n",
    "    # iterate *backwards* from last year of life\n",
    "    for idx in range(num_years-1, -1, -1):\n",
    "        # Any future shortage that was passed back gets added to the\n",
    "        # current year's mandatory expenses\n",
    "        if rollover_needed > 0:\n",
    "            mandatory_exp_and_reserves[idx] = mandatory_exp[idx] + rollover_needed\n",
    "        else:\n",
    "            mandatory_exp_and_reserves[idx] = mandatory_exp[idx]\n",
    "        \n",
    "        # Check see if there's a surplus after accounting for future reserves\n",
    "        surplus = income[idx] - mandatory_exp_and_reserves[idx]  \n",
    "        if surplus < 0:\n",
    "            # Pass shortfall back to prior year so it can be budgeted for\n",
    "            rollover_needed = -surplus\n",
    "        else:\n",
    "            # Distribute any surplus\n",
    "            if first_surplus_idx == -1:\n",
    "                # The first time we see a surplus is easiest (i.e. the latest year);\n",
    "                # we just distribute evently to the current and all future years, \n",
    "                # without any additional checks on the amount.\n",
    "                num_years_to_distribute = num_years - idx\n",
    "                yearly_distribution = surplus / num_years_to_distribute\n",
    "                # iterate from current through final year, assign discretionary funds\n",
    "                for redist_idx in range(idx, num_years):\n",
    "                    discretionary[redist_idx] = yearly_distribution\n",
    "            else:\n",
    "                # This branch means it's not the first time a surplus was seen; we\n",
    "                # determine whether to also spread across any previously calculated years\n",
    "                # or whether to just distribute to years earlier than the previously\n",
    "                # set surplus.  We don't want to blindly distribute through to the end\n",
    "                # of life, because if there are already more significant discretionary\n",
    "                # expenditures planned, the marginal value of increases those expenses\n",
    "                # is worth less than to leave it in lower-spending years.\n",
    "                #\n",
    "                # First, calculate as if we would only distribute up until the point of \n",
    "                # the previously identified surplus.\n",
    "                num_years_to_distribute = first_surplus_idx - idx\n",
    "                yearly_distribution = surplus / num_years_to_distribute\n",
    "                \n",
    "                # If existing (later) distribution is a higher $ amount, then only\n",
    "                # distribute this money in years earlier than that point.\n",
    "                if yearly_distribution <= discretionary[first_surplus_idx]:\n",
    "                    for redist_idx in range(idx, first_surplus_idx):\n",
    "                        discretionary[redist_idx] = yearly_distribution\n",
    "                else:\n",
    "                    # This branch means the surplus is high enough that we should\n",
    "                    # spread over all remaining years, so first we need to pool with\n",
    "                    # the previously distributed discretionary funds in later years.\n",
    "                    for redist_idx in range(first_surplus_idx, num_years):\n",
    "                        surplus += discretionary[redist_idx]\n",
    "                    num_years_to_distribute = num_years - idx\n",
    "                    yearly_distribution = surplus / num_years_to_distribute\n",
    "                    for redist_idx in range(idx, num_years):\n",
    "                        discretionary[redist_idx] = yearly_distribution\n",
    "            # Reset pointer to the first year with a surplus\n",
    "            first_surplus_idx = idx\n",
    "\n",
    "    print(f'{\"Year\": >6}{\"Income\": >10}{\"Mandatory Exp\": >16}{\"Mand. Exp+Reserves\": >20}{\"Discretionary\": >16}')\n",
    "    for idx in range(0, num_years):\n",
    "        print(f'{idx: >6}{income[idx]: >10}{mandatory_exp[idx]: >16}'\n",
    "              f'{mandatory_exp_and_reserves[idx]: >20}{discretionary[idx]: >16}')\n",
    "        \n",
    "    print(f'\\nTotal income = {sum(income)}, total mandatory expenses = '\n",
    "          f'{sum(mandatory_exp)}, total discretionary = {sum(discretionary)}')\n",
    "        \n",
    "    return discretionary"
   ]
  },
  {
   "cell_type": "code",
   "execution_count": 2,
   "metadata": {},
   "outputs": [
    {
     "name": "stdout",
     "output_type": "stream",
     "text": [
      "  Year    Income   Mandatory Exp  Mand. Exp+Reserves   Discretionary\n",
      "     0      1000            1000                1000             0.0\n",
      "     1      1200            1000                1000           200.0\n",
      "     2      1400            1000                1000           400.0\n",
      "     3      1600            1000                1000           600.0\n",
      "\n",
      "Total income = 5200, total mandatory expenses = 4000, total discretionary = 1200.0\n"
     ]
    }
   ],
   "source": [
    "# Straightforward example (increasing income)\n",
    "income = [1000, 1200, 1400, 1600]\n",
    "mandatory_exp = [1000, 1000, 1000, 1000]\n",
    "discretionary = make_me_happy(income, mandatory_exp)"
   ]
  },
  {
   "cell_type": "code",
   "execution_count": 3,
   "metadata": {},
   "outputs": [
    {
     "name": "stdout",
     "output_type": "stream",
     "text": [
      "  Year    Income   Mandatory Exp  Mand. Exp+Reserves   Discretionary\n",
      "     0      1600            1000                1000           300.0\n",
      "     1      1400            1000                1000           300.0\n",
      "     2      1200            1000                1000           300.0\n",
      "     3      1000            1000                1000           300.0\n",
      "\n",
      "Total income = 5200, total mandatory expenses = 4000, total discretionary = 1200.0\n"
     ]
    }
   ],
   "source": [
    "# Straightforward example (decreasing income)\n",
    "income = [1600, 1400, 1200, 1000]\n",
    "mandatory_exp = [1000, 1000, 1000, 1000]\n",
    "discretionary = make_me_happy(income, mandatory_exp)"
   ]
  },
  {
   "cell_type": "code",
   "execution_count": 4,
   "metadata": {},
   "outputs": [
    {
     "name": "stdout",
     "output_type": "stream",
     "text": [
      "  Year    Income   Mandatory Exp  Mand. Exp+Reserves   Discretionary\n",
      "     0      1400            1000                1200            40.0\n",
      "     1      1000            1000                1200            40.0\n",
      "     2       800             900                1000            40.0\n",
      "     3      1000            1100                1100            40.0\n",
      "     4       825             800                 800            40.0\n",
      "     5       815             800                 800            40.0\n",
      "\n",
      "Total income = 5840, total mandatory expenses = 5600, total discretionary = 240.0\n"
     ]
    }
   ],
   "source": [
    "# More complicated example (income is sometimes below expenses)\n",
    "income = [1400, 1000, 800, 1000, 825, 815]\n",
    "mandatory_exp = [1000, 1000, 900, 1100, 800, 800]\n",
    "discretionary = make_me_happy(income, mandatory_exp)"
   ]
  },
  {
   "cell_type": "code",
   "execution_count": 5,
   "metadata": {},
   "outputs": [
    {
     "name": "stdout",
     "output_type": "stream",
     "text": [
      "  Year    Income   Mandatory Exp  Mand. Exp+Reserves   Discretionary\n",
      "     0      1000             500                 600            80.0\n",
      "     1       900             700                1000            80.0\n",
      "     2       800             300                1100            80.0\n",
      "     3         0             400                 800            80.0\n",
      "     4       500             900                 900            80.0\n",
      "\n",
      "Total income = 3200, total mandatory expenses = 2800, total discretionary = 400.0\n"
     ]
    }
   ],
   "source": [
    "# More complicated example (income is sometimes below expenses)\n",
    "income = [1000, 900, 800, 0, 500]\n",
    "mandatory_exp = [500, 700, 300, 400, 900]\n",
    "discretionary = make_me_happy(income, mandatory_exp)"
   ]
  },
  {
   "cell_type": "code",
   "execution_count": 6,
   "metadata": {},
   "outputs": [
    {
     "name": "stdout",
     "output_type": "stream",
     "text": [
      "  Year    Income   Mandatory Exp  Mand. Exp+Reserves   Discretionary\n",
      "     0      1400            1000                1200            50.0\n",
      "     1      1000            1000                1200            50.0\n",
      "     2       800             900                1000            50.0\n",
      "     3      1000            1100                1100            50.0\n",
      "     4      1000             800                 800           200.0\n",
      "\n",
      "Total income = 5200, total mandatory expenses = 4800, total discretionary = 400.0\n"
     ]
    }
   ],
   "source": [
    "# More complicated example (can't redistribute earlier surplus to all future years)\n",
    "income = [1400, 1000, 800, 1000, 1000]\n",
    "mandatory_exp = [1000, 1000, 900, 1100, 800]\n",
    "discretionary = make_me_happy(income, mandatory_exp)"
   ]
  },
  {
   "cell_type": "code",
   "execution_count": 7,
   "metadata": {},
   "outputs": [
    {
     "name": "stdout",
     "output_type": "stream",
     "text": [
      "  Year    Income   Mandatory Exp  Mand. Exp+Reserves   Discretionary\n",
      "     0      1212            1000                1200             3.0\n",
      "     1      1000            1000                1200             3.0\n",
      "     2       800             900                1000             3.0\n",
      "     3      1000            1100                1100             3.0\n",
      "     4       825             800                 800            20.0\n",
      "     5       815             800                 800            20.0\n",
      "\n",
      "Total income = 5652, total mandatory expenses = 5600, total discretionary = 52.0\n"
     ]
    }
   ],
   "source": [
    "# More complicated example (can't redistribute earlier surplus to all future years)\n",
    "income = [1212, 1000, 800, 1000, 825, 815]\n",
    "mandatory_exp = [1000, 1000, 900, 1100, 800, 800]\n",
    "discretionary = make_me_happy(income, mandatory_exp)"
   ]
  },
  {
   "cell_type": "code",
   "execution_count": null,
   "metadata": {},
   "outputs": [],
   "source": []
  }
 ],
 "metadata": {
  "kernelspec": {
   "display_name": "Python 3",
   "language": "python",
   "name": "python3"
  },
  "language_info": {
   "codemirror_mode": {
    "name": "ipython",
    "version": 3
   },
   "file_extension": ".py",
   "mimetype": "text/x-python",
   "name": "python",
   "nbconvert_exporter": "python",
   "pygments_lexer": "ipython3",
   "version": "3.6.6"
  }
 },
 "nbformat": 4,
 "nbformat_minor": 2
}
