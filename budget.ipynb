{
 "cells": [
  {
   "cell_type": "markdown",
   "metadata": {},
   "source": [
    "## Budget for Happiness\n",
    "### Mike Winton\n",
    "\n",
    "Write a function to provide budgeting recommendations to maximize happiness via discretionary spending.\n",
    "\n",
    "Inputs:\n",
    "- List of expected yearly incomes\n",
    "- List of expected yearly mandatory expenses\n",
    "\n",
    "Output:\n",
    "- List of recommended discretionary expenditures\n",
    "\n",
    "Notes:\n",
    "- Can't assume each year's income covers that year's expenses; may need to roll funds forward.\n",
    "- The person definitely shouldn’t die (i.e. budget must cover mandatory expenses every year).\n",
    "- Happiness comes from discretionary spending.\n",
    "- Happiness vs. Discretionary expenditures plot starts steep and flattens out.  In other words, the marginal value of each dollar declines over the previous one throughout the year (i.e. 1st dollar generates more happiness than the second.  Second generates more than the third, etc...).\n",
    "- Marginal value of each discretionary dollar resets each year.\n",
    "- Use up all money by end of life."
   ]
  },
  {
   "cell_type": "code",
   "execution_count": 114,
   "metadata": {},
   "outputs": [],
   "source": [
    "def redistribute(year_idx, current_surplus, num_years, discretionary):\n",
    "    \"\"\"\n",
    "    Helper function to calculate redistribution of a surplus through future years.\n",
    "    \n",
    "    Inputs:\n",
    "        year_idx = int index of the current year\n",
    "        current_surplus = float dollar amount to distribute to discretionary budget\n",
    "        num_years = int total numbers of years\n",
    "        discretionary = list of length num_years holding current state of discretionary budget\n",
    "    Returns:\n",
    "        discretionary = list(float) of updated discretionary expenditures per year\n",
    "    \"\"\"\n",
    "\n",
    "    if year_idx == num_years - 1:\n",
    "        # In the final year, there are no future years to distribute to,\n",
    "        # so we can budget all of the surplus in that year.\n",
    "        discretionary[year_idx] = current_surplus\n",
    "        \n",
    "    # Loop through years prior to the last year.\n",
    "    for test_idx in range(year_idx + 1, num_years):\n",
    "        # Calculate a test distribution -- what a distribution would be from\n",
    "        # the current year through each prior to the test_idx.  It needs to\n",
    "        # be compared to the current discretionary budget at the test_idx\n",
    "        # year to determine whether to spread further forward or not.\n",
    "        test_dist = (current_surplus) / (test_idx - year_idx)\n",
    "        if test_dist <= discretionary[test_idx]:\n",
    "            # There's no point in further increasing the larger future discretionary \n",
    "            # budget at year test_idx, so distribute it across all years prior to\n",
    "            # that point.\n",
    "            for redist_idx in range(year_idx, test_idx):  # not including test_idx\n",
    "                discretionary[redist_idx] = test_dist\n",
    "            break\n",
    "        elif test_idx == num_years - 1:\n",
    "            # If our test_idx reached the last year without finding a discretionary\n",
    "            # budget larger than the calculated test distribution, then distribute\n",
    "            # evenly through end of lifetime (making sure to add in the budget already\n",
    "            # allocated in the final year).\n",
    "            redist_amt = current_surplus + discretionary[test_idx]\n",
    "            for redist_idx in range(year_idx, test_idx + 1):  # including test_idx\n",
    "                discretionary[redist_idx] = redist_amt / (test_idx - year_idx + 1)\n",
    "        else:\n",
    "            # We aren't ready to distribute yet, so we'll need to check whether\n",
    "            # the surplus should be spread across future years, too.\n",
    "            current_surplus += discretionary[test_idx]\n",
    "            \n",
    "    return discretionary"
   ]
  },
  {
   "cell_type": "code",
   "execution_count": 115,
   "metadata": {},
   "outputs": [],
   "source": [
    "def make_me_happy(income, mandatory_exp):\n",
    "    \"\"\"\n",
    "    Calculates how to spread discretionary income throughout lifetime for max happiness.\n",
    "    \n",
    "    Inputs:\n",
    "        income = list(float) of expected future income per year\n",
    "        mandatory_exp = list(float) of expected mandatory expenses per year\n",
    "        \n",
    "    Returns:\n",
    "        discretionary = list(float) of discretionary expenditures per year to maximize happiness\n",
    "    \"\"\"\n",
    "    \n",
    "    # pad with zeroes if lists aren't the same length\n",
    "    if len(income) > len(mandatory_exp):\n",
    "        mandatory_exp += [0] * (len(income) - len(mandatory_exp))\n",
    "    elif len(income) < len(mandatory_exp):\n",
    "        income += [0] * (len(mandatory_exp) - len(income))\n",
    "    \n",
    "    # fail if total income is insufficient for total expenses\n",
    "    if sum(mandatory_exp) > sum(income):\n",
    "        raise ValueError('Impossible!')\n",
    "        \n",
    "    num_years = len(income)  # for convenience later\n",
    "    \n",
    "    # Initialize variables\n",
    "    first_surplus_idx = -1  # -1 means it hasn't been found yet\n",
    "    rollover_needed = 0\n",
    "    mandatory_exp_and_reserves = [0] * num_years\n",
    "    discretionary = [0] * num_years \n",
    "    \n",
    "    # Iterate *backwards* from last year of life\n",
    "    for idx in range(num_years-1, -1, -1):\n",
    "        # Any future shortage that was passed back gets added to the\n",
    "        # current year's mandatory expenses\n",
    "        if rollover_needed > 0:\n",
    "            mandatory_exp_and_reserves[idx] = mandatory_exp[idx] + rollover_needed\n",
    "        else:\n",
    "            mandatory_exp_and_reserves[idx] = mandatory_exp[idx]\n",
    "        \n",
    "        # Check see if there's a surplus after accounting for future reserves\n",
    "        surplus = income[idx] - mandatory_exp_and_reserves[idx]  \n",
    "        if surplus <= 0:\n",
    "            # Pass shortfall back to prior year so it can be budgeted for\n",
    "            rollover_needed = -surplus\n",
    "        else:\n",
    "            # Redistribute any surplus (using helper function)\n",
    "            discretionary = redistribute(idx, surplus, num_years, discretionary)\n",
    "\n",
    "    # Print final state\n",
    "    print(f'{\"Year\": >6}{\"Income\": >10}{\"Mandatory Exp\": >16}{\"Mand. Exp+Reserves\": >20}{\"Discretionary\": >16}')\n",
    "    for idx in range(0, num_years):\n",
    "        print(f'{idx: >6}{income[idx]:>10,.2f}{mandatory_exp[idx]: >16,.2f}'\n",
    "              f'{mandatory_exp_and_reserves[idx]: >20,.2f}{discretionary[idx]: >16,.2f}')\n",
    "        \n",
    "    print(f'\\nTotal income = ${sum(income):,.2f}, total mandatory expenses = '\n",
    "          f'${sum(mandatory_exp):,.2f}, total discretionary = ${sum(discretionary):,.2f}')\n",
    "        \n",
    "    # Problem statement said to return the list\n",
    "    return discretionary"
   ]
  },
  {
   "cell_type": "code",
   "execution_count": 116,
   "metadata": {},
   "outputs": [
    {
     "name": "stdout",
     "output_type": "stream",
     "text": [
      "  Year    Income   Mandatory Exp  Mand. Exp+Reserves   Discretionary\n",
      "     0  1,000.00        1,000.00            1,000.00            0.00\n",
      "     1  1,200.00        1,000.00            1,000.00          200.00\n",
      "     2  1,400.00        1,000.00            1,000.00          400.00\n",
      "     3  1,600.00        1,000.00            1,000.00          600.00\n",
      "\n",
      "Total income = $5,200.00, total mandatory expenses = $4,000.00, total discretionary = $1,200.00\n"
     ]
    }
   ],
   "source": [
    "# Straightforward example (increasing income)\n",
    "income = [1000, 1200, 1400, 1600]\n",
    "mandatory_exp = [1000, 1000, 1000, 1000]\n",
    "discretionary = make_me_happy(income, mandatory_exp)"
   ]
  },
  {
   "cell_type": "code",
   "execution_count": 117,
   "metadata": {},
   "outputs": [
    {
     "name": "stdout",
     "output_type": "stream",
     "text": [
      "  Year    Income   Mandatory Exp  Mand. Exp+Reserves   Discretionary\n",
      "     0  1,600.00        1,000.00            1,000.00          300.00\n",
      "     1  1,400.00        1,000.00            1,000.00          300.00\n",
      "     2  1,200.00        1,000.00            1,000.00          300.00\n",
      "     3  1,000.00        1,000.00            1,000.00          300.00\n",
      "\n",
      "Total income = $5,200.00, total mandatory expenses = $4,000.00, total discretionary = $1,200.00\n"
     ]
    }
   ],
   "source": [
    "# Straightforward example (decreasing income)\n",
    "income = [1600, 1400, 1200, 1000]\n",
    "mandatory_exp = [1000, 1000, 1000, 1000]\n",
    "discretionary = make_me_happy(income, mandatory_exp)"
   ]
  },
  {
   "cell_type": "code",
   "execution_count": 118,
   "metadata": {},
   "outputs": [
    {
     "name": "stdout",
     "output_type": "stream",
     "text": [
      "  Year    Income   Mandatory Exp  Mand. Exp+Reserves   Discretionary\n",
      "     0  1,600.00        1,300.00            1,600.00            0.00\n",
      "     1  1,400.00        1,300.00            1,700.00            0.00\n",
      "     2  1,200.00        1,300.00            1,600.00            0.00\n",
      "     3  1,000.00        1,300.00            1,300.00            0.00\n",
      "\n",
      "Total income = $5,200.00, total mandatory expenses = $5,200.00, total discretionary = $0.00\n"
     ]
    }
   ],
   "source": [
    "# Straightforward example (no surplus)\n",
    "income = [1600, 1400, 1200, 1000]\n",
    "mandatory_exp = [1300, 1300, 1300, 1300]\n",
    "discretionary = make_me_happy(income, mandatory_exp)"
   ]
  },
  {
   "cell_type": "code",
   "execution_count": 120,
   "metadata": {},
   "outputs": [
    {
     "name": "stdout",
     "output_type": "stream",
     "text": [
      "  Year    Income   Mandatory Exp  Mand. Exp+Reserves   Discretionary\n",
      "     0  1,800.00        1,300.00            1,300.00          125.00\n",
      "     1  1,600.00        1,300.00            1,600.00          125.00\n",
      "     2  1,200.00        1,300.00            1,500.00          125.00\n",
      "     3  1,100.00        1,300.00            1,300.00          125.00\n",
      "\n",
      "Total income = $5,700.00, total mandatory expenses = $5,200.00, total discretionary = $500.00\n"
     ]
    }
   ],
   "source": [
    "# Straightforward example (decreasing income, drops below expenses)\n",
    "income = [1800, 1600, 1200, 1100]\n",
    "mandatory_exp = [1300, 1300, 1300, 1300]\n",
    "discretionary = make_me_happy(income, mandatory_exp)"
   ]
  },
  {
   "cell_type": "code",
   "execution_count": 121,
   "metadata": {},
   "outputs": [
    {
     "name": "stdout",
     "output_type": "stream",
     "text": [
      "  Year    Income   Mandatory Exp  Mand. Exp+Reserves   Discretionary\n",
      "     0  1,400.00        1,000.00            1,200.00           40.00\n",
      "     1  1,000.00        1,000.00            1,200.00           40.00\n",
      "     2    800.00          900.00            1,000.00           40.00\n",
      "     3  1,000.00        1,100.00            1,100.00           40.00\n",
      "     4    825.00          800.00              800.00           40.00\n",
      "     5    815.00          800.00              800.00           40.00\n",
      "\n",
      "Total income = $5,840.00, total mandatory expenses = $5,600.00, total discretionary = $240.00\n"
     ]
    }
   ],
   "source": [
    "# More complicated example (income alternates above & below expenses)\n",
    "income = [1400, 1000, 800, 1000, 825, 815]\n",
    "mandatory_exp = [1000, 1000, 900, 1100, 800, 800]\n",
    "discretionary = make_me_happy(income, mandatory_exp)"
   ]
  },
  {
   "cell_type": "code",
   "execution_count": 122,
   "metadata": {},
   "outputs": [
    {
     "name": "stdout",
     "output_type": "stream",
     "text": [
      "  Year    Income   Mandatory Exp  Mand. Exp+Reserves   Discretionary\n",
      "     0  1,000.00          500.00              600.00           80.00\n",
      "     1    900.00          700.00            1,000.00           80.00\n",
      "     2    800.00          300.00            1,100.00           80.00\n",
      "     3      0.00          400.00              800.00           80.00\n",
      "     4    500.00          900.00              900.00           80.00\n",
      "\n",
      "Total income = $3,200.00, total mandatory expenses = $2,800.00, total discretionary = $400.00\n"
     ]
    }
   ],
   "source": [
    "# More complicated example (income is sometimes below expenses)\n",
    "income = [1000, 900, 800, 0, 500]\n",
    "mandatory_exp = [500, 700, 300, 400, 900]\n",
    "discretionary = make_me_happy(income, mandatory_exp)"
   ]
  },
  {
   "cell_type": "code",
   "execution_count": 123,
   "metadata": {},
   "outputs": [
    {
     "name": "stdout",
     "output_type": "stream",
     "text": [
      "  Year    Income   Mandatory Exp  Mand. Exp+Reserves   Discretionary\n",
      "     0  1,400.00        1,000.00            1,200.00           50.00\n",
      "     1  1,000.00        1,000.00            1,200.00           50.00\n",
      "     2    800.00          900.00            1,000.00           50.00\n",
      "     3  1,000.00        1,100.00            1,100.00           50.00\n",
      "     4  1,000.00          800.00              800.00          200.00\n",
      "\n",
      "Total income = $5,200.00, total mandatory expenses = $4,800.00, total discretionary = $400.00\n"
     ]
    }
   ],
   "source": [
    "# More complicated example (can't redistribute earlier surplus to all future years)\n",
    "income = [1400, 1000, 800, 1000, 1000]\n",
    "mandatory_exp = [1000, 1000, 900, 1100, 800]\n",
    "discretionary = make_me_happy(income, mandatory_exp)"
   ]
  },
  {
   "cell_type": "code",
   "execution_count": 124,
   "metadata": {},
   "outputs": [
    {
     "name": "stdout",
     "output_type": "stream",
     "text": [
      "  Year    Income   Mandatory Exp  Mand. Exp+Reserves   Discretionary\n",
      "     0  1,212.00        1,000.00            1,200.00            3.00\n",
      "     1  1,000.00        1,000.00            1,200.00            3.00\n",
      "     2    800.00          900.00            1,000.00            3.00\n",
      "     3  1,000.00        1,100.00            1,100.00            3.00\n",
      "     4    825.00          800.00              800.00           20.00\n",
      "     5    815.00          800.00              800.00           20.00\n",
      "\n",
      "Total income = $5,652.00, total mandatory expenses = $5,600.00, total discretionary = $52.00\n"
     ]
    }
   ],
   "source": [
    "# More complicated example (can't redistribute earlier surplus to all future years)\n",
    "income = [1212, 1000, 800, 1000, 825, 815]\n",
    "mandatory_exp = [1000, 1000, 900, 1100, 800, 800]\n",
    "discretionary = make_me_happy(income, mandatory_exp)"
   ]
  },
  {
   "cell_type": "code",
   "execution_count": 126,
   "metadata": {},
   "outputs": [
    {
     "name": "stdout",
     "output_type": "stream",
     "text": [
      "  Year    Income   Mandatory Exp  Mand. Exp+Reserves   Discretionary\n",
      "     0  1,225.00        1,000.00            1,200.00           25.00\n",
      "     1  1,500.00        1,200.00            1,400.00           33.33\n",
      "     2    700.00          800.00              900.00           33.33\n",
      "     3    900.00        1,000.00            1,000.00           33.33\n",
      "     4  1,400.00        1,000.00            1,000.00          300.00\n",
      "     5  1,200.00        1,000.00            1,000.00          300.00\n",
      "\n",
      "Total income = $6,925.00, total mandatory expenses = $6,000.00, total discretionary = $725.00\n"
     ]
    }
   ],
   "source": [
    "# Another example (more complicated redistribution logic)\n",
    "income = [1225, 1500, 700, 900, 1400, 1200]\n",
    "mandatory_exp = [1000, 1200 ,800, 1000, 1000, 1000]\n",
    "discretionary = make_me_happy(income, mandatory_exp)"
   ]
  },
  {
   "cell_type": "code",
   "execution_count": 125,
   "metadata": {},
   "outputs": [
    {
     "name": "stdout",
     "output_type": "stream",
     "text": [
      "  Year    Income   Mandatory Exp  Mand. Exp+Reserves   Discretionary\n",
      "     0    387.00          181.00              181.00          167.33\n",
      "     1    637.00          390.00              390.00          167.33\n",
      "     2    438.00          389.00              389.00          167.33\n",
      "     3    568.00          334.00              334.00          234.00\n",
      "     4    906.00           87.00               87.00          819.00\n",
      "\n",
      "Total income = $2,936.00, total mandatory expenses = $1,381.00, total discretionary = $1,555.00\n"
     ]
    }
   ],
   "source": [
    "# Paul's example (more complicated redistribution logic)\n",
    "income = [387, 637, 438, 568, 906]\n",
    "mandatory_exp = [181, 390, 389, 334, 87]\n",
    "discretionary = make_me_happy(income, mandatory_exp)"
   ]
  },
  {
   "cell_type": "code",
   "execution_count": null,
   "metadata": {},
   "outputs": [],
   "source": []
  }
 ],
 "metadata": {
  "kernelspec": {
   "display_name": "Python 3",
   "language": "python",
   "name": "python3"
  },
  "language_info": {
   "codemirror_mode": {
    "name": "ipython",
    "version": 3
   },
   "file_extension": ".py",
   "mimetype": "text/x-python",
   "name": "python",
   "nbconvert_exporter": "python",
   "pygments_lexer": "ipython3",
   "version": "3.6.6"
  }
 },
 "nbformat": 4,
 "nbformat_minor": 2
}
